{
 "cells": [
  {
   "cell_type": "code",
   "execution_count": 5,
   "id": "dbbbe2fb",
   "metadata": {},
   "outputs": [
    {
     "name": "stdout",
     "output_type": "stream",
     "text": [
      "CSV file 'salary.csv' has been converted to JSON and saved to 'output.json'.\n"
     ]
    }
   ],
   "source": [
    "import pandas as pd\n",
    "\n",
    "# Replace 'your_file.csv' with the actual file path\n",
    "csv_file_path = 'salary.csv'\n",
    "\n",
    "# Read the CSV file into a DataFrame\n",
    "df = pd.read_csv('salary.csv')\n",
    "\n",
    "# Convert the DataFrame to JSON\n",
    "json_data = df.to_json(orient='records')\n",
    "\n",
    "# Save the JSON data to a file\n",
    "json_file_path = 'output.json'\n",
    "with open(json_file_path, 'w') as json_file:\n",
    "    json_file.write(json_data)\n",
    "\n",
    "print(f\"CSV file '{csv_file_path}' has been converted to JSON and saved to '{json_file_path}'.\")\n"
   ]
  },
  {
   "cell_type": "code",
   "execution_count": null,
   "id": "2fbdbe11",
   "metadata": {},
   "outputs": [],
   "source": []
  }
 ],
 "metadata": {
  "kernelspec": {
   "display_name": "Python 3 (ipykernel)",
   "language": "python",
   "name": "python3"
  },
  "language_info": {
   "codemirror_mode": {
    "name": "ipython",
    "version": 3
   },
   "file_extension": ".py",
   "mimetype": "text/x-python",
   "name": "python",
   "nbconvert_exporter": "python",
   "pygments_lexer": "ipython3",
   "version": "3.11.4"
  }
 },
 "nbformat": 4,
 "nbformat_minor": 5
}
